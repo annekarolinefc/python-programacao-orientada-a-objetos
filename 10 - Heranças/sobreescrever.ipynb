{
 "cells": [
  {
   "cell_type": "code",
   "execution_count": null,
   "metadata": {},
   "outputs": [],
   "source": [
    "http://127.0.0.1:8888/lab?token=d09d00626e35e0302ba32ebc210e129205f8a3c5be355e4d"
   ]
  }
 ],
 "metadata": {
  "language_info": {
   "name": "python"
  }
 },
 "nbformat": 4,
 "nbformat_minor": 2
}
